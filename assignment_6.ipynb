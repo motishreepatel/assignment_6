{
 "cells": [
  {
   "cell_type": "code",
   "execution_count": null,
   "metadata": {},
   "outputs": [],
   "source": [
    "#Q - 1. What are escape characters, and how do you use them?\n",
    "#Answer:\n",
    "- Escape characters are special characters that are used to represent some actions or characters that are impossible or difficult to type in a string or text.\n",
    "- They are mostly used in programming languages, text-editors or command line interpreters to add a specific functionality."
   ]
  },
  {
   "cell_type": "code",
   "execution_count": null,
   "metadata": {},
   "outputs": [],
   "source": [
    "#Q - 2. What do the escape characters n and t stand for?\n",
    "#Answer:\n",
    "The escape character '\\n' represents a new line. \n",
    "The escape character '\\t' represents a tab  \n"
   ]
  },
  {
   "cell_type": "code",
   "execution_count": 2,
   "metadata": {},
   "outputs": [
    {
     "name": "stdout",
     "output_type": "stream",
     "text": [
      "Hello\\ Hi\\How are\\you\n"
     ]
    }
   ],
   "source": [
    "#Q - 3. What is the way to include backslash characters in a string?\n",
    "#Answer:\n",
    "#by using double backslash characters(\\\\), we can include a single backslash character in a string\n",
    "#Exp:\n",
    "print(\"Hello\\\\ Hi\\\\How are\\\\you\")\n"
   ]
  },
  {
   "cell_type": "code",
   "execution_count": null,
   "metadata": {},
   "outputs": [],
   "source": [
    "#Q - 4. The string \"Howl's Moving Castle\" is a correct value. Why isn't the single quote character in the word Howl's not escaped a problem?\n",
    "#Answer:\n",
    "The single quote character within the string \"Howl's\" does not need to be escaped because it is surrounded by double quotes to define the string. \n",
    "The interpreter recognizes that the single quote within the string is not meant to end the string but rather is part of the string itself."
   ]
  },
  {
   "cell_type": "code",
   "execution_count": 5,
   "metadata": {},
   "outputs": [
    {
     "name": "stdout",
     "output_type": "stream",
     "text": [
      "Hello\n",
      "Hi\n",
      "How\n",
      "Are You?\n",
      "how is the weather Today?\n",
      "Bye\n"
     ]
    }
   ],
   "source": [
    "#Q - 5. How do you write a string of newlines if you don't want to use the n character?\n",
    "#Answer:\n",
    "#Without using '\\n' character if we have to write new lines we can use triple quotes(''' or \"\"\") and press enter where we need new lines. Below is an example:\n",
    "str1 = \"\"\"Hello\n",
    "Hi\n",
    "How\n",
    "Are You?\n",
    "how is the weather Today?\n",
    "Bye\"\"\"\n",
    "print(str1)\n"
   ]
  },
  {
   "cell_type": "code",
   "execution_count": 10,
   "metadata": {},
   "outputs": [
    {
     "name": "stdout",
     "output_type": "stream",
     "text": [
      "e\n",
      "Hello\n",
      "Hello\n",
      "lo, world!\n"
     ]
    }
   ],
   "source": [
    "#Q - 6. What are the values of the given expressions?\n",
    "#'Hello, world!'[1]\n",
    "#'Hello, world!'[0:5]\n",
    "#'Hello, world!'[:5]\n",
    "#'Hello, world!'[3:]\n",
    "#Answer:\n",
    "print('Hello, world!'[1])\n",
    "print('Hello, world!'[0:5])\n",
    "print('Hello, world!'[:5])\n",
    "print('Hello, world!'[3:])\n"
   ]
  },
  {
   "cell_type": "code",
   "execution_count": 13,
   "metadata": {},
   "outputs": [
    {
     "name": "stdout",
     "output_type": "stream",
     "text": [
      "HELLO\n",
      "True\n",
      "hello\n"
     ]
    }
   ],
   "source": [
    "#Q - 7. What are the values of the following expressions?\n",
    "#'Hello'.upper()\n",
    "#'Hello'.upper().isupper()\n",
    "#'Hello'.upper().lower()\n",
    "print('Hello'.upper())\n",
    "print('Hello'.upper().isupper())\n",
    "print('Hello'.upper().lower())"
   ]
  },
  {
   "cell_type": "code",
   "execution_count": 16,
   "metadata": {},
   "outputs": [
    {
     "name": "stdout",
     "output_type": "stream",
     "text": [
      "['Remember,', 'remember,', 'the', 'fifth', 'of', 'July.']\n",
      "There-can-only-one.\n"
     ]
    }
   ],
   "source": [
    "#Q - 8. What are the values of the following expressions?\n",
    "'Remember, remember, the fifth of July.'.split() #the split function without any arguments splits the string at each occurence of white spaces(spaces, tabs, newlines) and returns a list of resulting sub-strings\n",
    "'-'.join('There can only one.'.split()) \n",
    "print('Remember, remember, the fifth of July.'.split())\n",
    "print('-'.join('There can only one.'.split())) #here '-'ArithmeticError will join all the substrings after the split"
   ]
  },
  {
   "cell_type": "code",
   "execution_count": null,
   "metadata": {},
   "outputs": [],
   "source": [
    "#Q - 9. What are the methods for right-justifying, left-justifying, and centering a string?\n",
    "#Answer:\n",
    "Method used for right-justifying is rjust(width,fillchar=' ')\n",
    "Method used for left-justifying is ljust(width,fillchar=' ')\n",
    "Method used for centering is center(width,fillchar=' ')"
   ]
  },
  {
   "cell_type": "code",
   "execution_count": 19,
   "metadata": {},
   "outputs": [
    {
     "name": "stdout",
     "output_type": "stream",
     "text": [
      "Hello, Hi\n",
      "Hello, Hi    \n",
      "    Hello, Hi\n"
     ]
    }
   ],
   "source": [
    "#Q - 10. What is the best way to remove whitespace characters from the start or end?\n",
    "#Answer:\n",
    "'''strip() method removes both leading and trailing white spaces from a string. If we have to remove only leading white spaces, we can use lstrip() method and if only trailing\n",
    "whitepsaces to remove, we have to use rstrip() method.'''\n",
    "\n",
    "str2 = \"    Hello, Hi    \"\n",
    "print(str2.strip())\n",
    "print(str2.lstrip())\n",
    "print(str2.rstrip())\n"
   ]
  },
  {
   "cell_type": "code",
   "execution_count": null,
   "metadata": {},
   "outputs": [],
   "source": []
  }
 ],
 "metadata": {
  "kernelspec": {
   "display_name": "Python 3.9.6 64-bit",
   "language": "python",
   "name": "python3"
  },
  "language_info": {
   "codemirror_mode": {
    "name": "ipython",
    "version": 3
   },
   "file_extension": ".py",
   "mimetype": "text/x-python",
   "name": "python",
   "nbconvert_exporter": "python",
   "pygments_lexer": "ipython3",
   "version": "3.9.6"
  },
  "orig_nbformat": 4,
  "vscode": {
   "interpreter": {
    "hash": "31f2aee4e71d21fbe5cf8b01ff0e069b9275f58929596ceb00d14d90e3e16cd6"
   }
  }
 },
 "nbformat": 4,
 "nbformat_minor": 2
}
